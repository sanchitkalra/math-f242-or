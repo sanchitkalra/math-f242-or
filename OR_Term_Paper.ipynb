{
  "nbformat": 4,
  "nbformat_minor": 0,
  "metadata": {
    "colab": {
      "name": "OR Term Paper",
      "provenance": [],
      "authorship_tag": "ABX9TyOi2GHGdjGzcUi0k4a77UqN",
      "include_colab_link": true
    },
    "kernelspec": {
      "name": "python3",
      "display_name": "Python 3"
    },
    "language_info": {
      "name": "python"
    }
  },
  "cells": [
    {
      "cell_type": "markdown",
      "metadata": {
        "id": "view-in-github",
        "colab_type": "text"
      },
      "source": [
        "<a href=\"https://colab.research.google.com/github/sanchitkalra/math-f242-or/blob/main/OR_Term_Paper.ipynb\" target=\"_parent\"><img src=\"https://colab.research.google.com/assets/colab-badge.svg\" alt=\"Open In Colab\"/></a>"
      ]
    },
    {
      "cell_type": "code",
      "execution_count": null,
      "metadata": {
        "id": "l7xgsi_GGP1Z"
      },
      "outputs": [],
      "source": [
        "import math\n",
        "import matplotlib.pyplot as plt"
      ]
    },
    {
      "cell_type": "code",
      "source": [
        "def factorial(n):\n",
        "    x = 1\n",
        "    for k in range(1, n+1):\n",
        "        x = x*k\n",
        "    return x"
      ],
      "metadata": {
        "id": "RUvhG9eCGS-S"
      },
      "execution_count": null,
      "outputs": []
    },
    {
      "cell_type": "code",
      "source": [
        "def get_p_o(rho, s):\n",
        "    deno = 0\n",
        "    for k in range(s):\n",
        "        deno += (math.pow(rho, k))/factorial(k)\n",
        "    deno += (math.pow(rho, s))/((factorial(s))*(1-(rho/s)))\n",
        "    return 1/deno"
      ],
      "metadata": {
        "id": "C-j0ax9MGYuE"
      },
      "execution_count": null,
      "outputs": []
    },
    {
      "cell_type": "code",
      "source": [
        "def delay_prob(rho, s, p_o):\n",
        "    return (math.pow(rho, s)*p_o)/(factorial(s)*(1-(rho/s)))"
      ],
      "metadata": {
        "id": "qej6B9LHGamh"
      },
      "execution_count": null,
      "outputs": []
    },
    {
      "cell_type": "code",
      "source": [
        "def bed_occ_rate(rho, s, p_o):\n",
        "    def p_s(rho, s, p_o):\n",
        "        return (math.pow(rho, s)*p_o)/(factorial(s))\n",
        "    return (rho)/(s)\n",
        "    # return ((1-p_s(rho, s, p_o))*rho)/(s)"
      ],
      "metadata": {
        "id": "eiQZWgOkGcRp"
      },
      "execution_count": null,
      "outputs": []
    },
    {
      "cell_type": "code",
      "source": [
        "def get_l_q(rho, s, lamb, mu, p_o):\n",
        "  return (math.pow(rho, s)*lamb*mu*s*p_o)/(factorial(s)*math.pow((mu*s) - lamb, 2))"
      ],
      "metadata": {
        "id": "55dvFVy_JdJX"
      },
      "execution_count": null,
      "outputs": []
    },
    {
      "cell_type": "code",
      "source": [
        "def get_l(l_q, rho):\n",
        "  return l_q + rho"
      ],
      "metadata": {
        "id": "M6VmXP1_J59J"
      },
      "execution_count": null,
      "outputs": []
    },
    {
      "cell_type": "code",
      "source": [
        "def get_w(l, lamb):\n",
        "  return l/lamb"
      ],
      "metadata": {
        "id": "sQ6xeYeSKBFq"
      },
      "execution_count": null,
      "outputs": []
    },
    {
      "cell_type": "code",
      "source": [
        "def get_w_q(l_q, lamb):\n",
        "  return l_q/lamb"
      ],
      "metadata": {
        "id": "L4SYB5OwKI9n"
      },
      "execution_count": null,
      "outputs": []
    },
    {
      "cell_type": "code",
      "source": [
        "lamb = 14.8 # No of arrivals/day\n",
        "avg_t = 4 # = 1/mu = avg length of stay at hospital\n",
        "rho = lamb*avg_t\n",
        "s = range(60, 90)\n",
        "\n",
        "dp = []\n",
        "bor = []\n",
        "w_q = []\n",
        "\n",
        "for j in s:\n",
        "    p_o = get_p_o(rho, j)\n",
        "    dp_j = delay_prob(rho, j, p_o)\n",
        "    bor_j = bed_occ_rate(rho, j, p_o)\n",
        "    l_q = get_l_q(rho, j, lamb, 1/avg_t, p_o)\n",
        "    l = get_l(l_q, rho)\n",
        "    w = get_w(l, lamb)\n",
        "    w_q_j = get_w_q(l_q, lamb)\n",
        "    #print(p_o)\n",
        "    print(\"Servers: \" + str(j) + \" DP: \" + str(dp_j)[0:5] + \" BOR: \" + str(bor_j)[0:5] + \"  Lq: \" + str(l_q)[0:5] + \" L: \" + str(l)[0:5] + \" W: \" + str(w)[0:5] + \" Wq: \" + str(w_q_j)[0:5])\n",
        "    dp.append(dp_j)\n",
        "    bor.append(bor_j*100)\n",
        "    w_q.append(w_q_j)"
      ],
      "metadata": {
        "colab": {
          "base_uri": "https://localhost:8080/"
        },
        "id": "ChTRZVk6Ge85",
        "outputId": "b141a191-983b-4900-9a31-c629956a7d66"
      },
      "execution_count": null,
      "outputs": [
        {
          "output_type": "stream",
          "name": "stdout",
          "text": [
            "Servers: 60 DP: 0.879 BOR: 0.986  Lq: 65.10 L: 124.3 W: 8.398 Wq: 4.398\n",
            "Servers: 61 DP: 0.745 BOR: 0.970  Lq: 24.50 L: 83.70 W: 5.655 Wq: 1.655\n",
            "Servers: 62 DP: 0.626 BOR: 0.954  Lq: 13.25 L: 72.45 W: 4.895 Wq: 0.895\n",
            "Servers: 63 DP: 0.523 BOR: 0.939  Lq: 8.154 L: 67.35 W: 4.550 Wq: 0.550\n",
            "Servers: 64 DP: 0.433 BOR: 0.925  Lq: 5.350 L: 64.55 W: 4.361 Wq: 0.361\n",
            "Servers: 65 DP: 0.356 BOR: 0.910  Lq: 3.641 L: 62.84 W: 4.246 Wq: 0.246\n",
            "Servers: 66 DP: 0.291 BOR: 0.896  Lq: 2.534 L: 61.73 W: 4.171 Wq: 0.171\n",
            "Servers: 67 DP: 0.235 BOR: 0.883  Lq: 1.787 L: 60.98 W: 4.120 Wq: 0.120\n",
            "Servers: 68 DP: 0.188 BOR: 0.870  Lq: 1.270 L: 60.47 W: 4.085 Wq: 0.085\n",
            "Servers: 69 DP: 0.150 BOR: 0.857  Lq: 0.907 L: 60.10 W: 4.061 Wq: 0.061\n",
            "Servers: 70 DP: 0.118 BOR: 0.845  Lq: 0.648 L: 59.84 W: 4.043 Wq: 0.043\n",
            "Servers: 71 DP: 0.092 BOR: 0.833  Lq: 0.463 L: 59.66 W: 4.031 Wq: 0.031\n",
            "Servers: 72 DP: 0.071 BOR: 0.822  Lq: 0.330 L: 59.53 W: 4.022 Wq: 0.022\n",
            "Servers: 73 DP: 0.054 BOR: 0.810  Lq: 0.234 L: 59.43 W: 4.015 Wq: 0.015\n",
            "Servers: 74 DP: 0.041 BOR: 0.8  Lq: 0.166 L: 59.36 W: 4.011 Wq: 0.011\n",
            "Servers: 75 DP: 0.031 BOR: 0.789  Lq: 0.116 L: 59.31 W: 4.007 Wq: 0.007\n",
            "Servers: 76 DP: 0.023 BOR: 0.778  Lq: 0.081 L: 59.28 W: 4.005 Wq: 0.005\n",
            "Servers: 77 DP: 0.017 BOR: 0.768  Lq: 0.056 L: 59.25 W: 4.003 Wq: 0.003\n",
            "Servers: 78 DP: 0.012 BOR: 0.758  Lq: 0.039 L: 59.23 W: 4.002 Wq: 0.002\n",
            "Servers: 79 DP: 0.008 BOR: 0.749  Lq: 0.026 L: 59.22 W: 4.001 Wq: 0.001\n",
            "Servers: 80 DP: 0.006 BOR: 0.74  Lq: 0.018 L: 59.21 W: 4.001 Wq: 0.001\n",
            "Servers: 81 DP: 0.004 BOR: 0.730  Lq: 0.012 L: 59.21 W: 4.000 Wq: 0.000\n",
            "Servers: 82 DP: 0.003 BOR: 0.721  Lq: 0.008 L: 59.20 W: 4.000 Wq: 0.000\n",
            "Servers: 83 DP: 0.002 BOR: 0.713  Lq: 0.005 L: 59.20 W: 4.000 Wq: 0.000\n",
            "Servers: 84 DP: 0.001 BOR: 0.704  Lq: 0.003 L: 59.20 W: 4.000 Wq: 0.000\n",
            "Servers: 85 DP: 0.001 BOR: 0.696  Lq: 0.002 L: 59.20 W: 4.000 Wq: 0.000\n",
            "Servers: 86 DP: 0.000 BOR: 0.688  Lq: 0.001 L: 59.20 W: 4.000 Wq: 0.000\n",
            "Servers: 87 DP: 0.000 BOR: 0.680  Lq: 0.000 L: 59.20 W: 4.000 Wq: 6.477\n",
            "Servers: 88 DP: 0.000 BOR: 0.672  Lq: 0.000 L: 59.20 W: 4.000 Wq: 4.106\n",
            "Servers: 89 DP: 0.000 BOR: 0.665  Lq: 0.000 L: 59.20 W: 4.000 Wq: 2.580\n"
          ]
        }
      ]
    },
    {
      "cell_type": "code",
      "source": [
        "print(dp)\n",
        "print(bor)"
      ],
      "metadata": {
        "colab": {
          "base_uri": "https://localhost:8080/"
        },
        "id": "HSAwaGqQG7EB",
        "outputId": "90480f86-5cea-4ddf-df43-63dd26b3371f"
      },
      "execution_count": null,
      "outputs": [
        {
          "output_type": "stream",
          "name": "stdout",
          "text": [
            "[0.8797991943084046, 0.7451780085881469, 0.6267977983386067, 0.5234325871387254, 0.43384615160433315, 0.3568043523500479, 0.2910881073226896, 0.23550655677937335, 0.18890991773240876, 0.15020150714262526, 0.11834843300290081, 0.09239051216367787, 0.07144707002141028, 0.05472140203595556, 0.04150281865871979, 0.031166339599478787, 0.023170236182203343, 0.017051729434648465, 0.012421227667263147, 0.00895552633484921, 0.006390395403135811, 0.004512949876162036, 0.003154145156226996, 0.002181669573261917, 0.001493430842286587, 0.0010117593559316174, 0.0006783851635372494, 0.0004501910845392533, 0.0002957033685241524, 0.00019225357715098274]\n",
            "[98.66666666666667, 97.04918032786885, 95.48387096774194, 93.96825396825396, 92.5, 91.07692307692308, 89.6969696969697, 88.35820895522389, 87.05882352941177, 85.79710144927537, 84.57142857142857, 83.38028169014085, 82.22222222222223, 81.0958904109589, 80.0, 78.93333333333334, 77.89473684210527, 76.88311688311688, 75.89743589743591, 74.9367088607595, 74.0, 73.08641975308642, 72.19512195121952, 71.32530120481928, 70.47619047619048, 69.64705882352942, 68.83720930232559, 68.04597701149426, 67.27272727272727, 66.51685393258427]\n"
          ]
        }
      ]
    },
    {
      "cell_type": "code",
      "source": [
        "# DP vs servers\n",
        "\n",
        "plt.plot(s, dp)\n",
        "plt.xlabel(\"Number of beds (servers)\")\n",
        "plt.ylabel(\"Delay Probability\")\n",
        "plt.show()"
      ],
      "metadata": {
        "colab": {
          "base_uri": "https://localhost:8080/",
          "height": 279
        },
        "id": "Fe4b8W2TG-Em",
        "outputId": "dd340bff-a0e5-4a4c-c414-849c0853eb90"
      },
      "execution_count": null,
      "outputs": [
        {
          "output_type": "display_data",
          "data": {
            "text/plain": [
              "<Figure size 432x288 with 1 Axes>"
            ],
            "image/png": "[encoded data removed]"
          },
          "metadata": {
            "needs_background": "light"
          }
        }
      ]
    },
    {
      "cell_type": "code",
      "source": [
        "# BOR vs servers\n",
        "\n",
        "plt.plot(s, bor)\n",
        "plt.xlabel(\"Number of beds (servers)\")\n",
        "plt.ylabel(\"Bed occupancy rate\")\n",
        "plt.show()"
      ],
      "metadata": {
        "colab": {
          "base_uri": "https://localhost:8080/",
          "height": 282
        },
        "id": "QWzcdGW4HRsr",
        "outputId": "fbb451c4-a46b-405f-d088-e5961e88394e"
      },
      "execution_count": null,
      "outputs": [
        {
          "output_type": "display_data",
          "data": {
            "text/plain": [
              "<Figure size 432x288 with 1 Axes>"
            ],
            "image/png": "[encoded data removed]"
          },
          "metadata": {
            "needs_background": "light"
          }
        }
      ]
    },
    {
      "cell_type": "code",
      "source": [
        "# BOR vs DP\n",
        "\n",
        "plt.plot(dp, bor)\n",
        "plt.xlabel(\"Delay Probability\")\n",
        "plt.ylabel(\"Bed occupancy rate\")\n",
        "plt.show()"
      ],
      "metadata": {
        "colab": {
          "base_uri": "https://localhost:8080/",
          "height": 282
        },
        "id": "sz2FdrytJU86",
        "outputId": "426683f9-d822-492b-f5e5-9e6460ce6c73"
      },
      "execution_count": null,
      "outputs": [
        {
          "output_type": "display_data",
          "data": {
            "text/plain": [
              "<Figure size 432x288 with 1 Axes>"
            ],
            "image/png": "[encoded data removed]"
          },
          "metadata": {
            "needs_background": "light"
          }
        }
      ]
    },
    {
      "cell_type": "code",
      "source": [
        "# Waiting time vs Number of Beds\n",
        "\n",
        "plt.plot(s, w_q)\n",
        "plt.xlabel(\"Number of beds (servers)\")\n",
        "plt.ylabel(\"Waiting time\")\n",
        "plt.show()"
      ],
      "metadata": {
        "colab": {
          "base_uri": "https://localhost:8080/",
          "height": 279
        },
        "id": "yZrIGZXwOiA5",
        "outputId": "9b6d6f02-bf3d-4806-eadb-6f8717b9da62"
      },
      "execution_count": null,
      "outputs": [
        {
          "output_type": "display_data",
          "data": {
            "text/plain": [
              "<Figure size 432x288 with 1 Axes>"
            ],
            "image/png": "[encoded data removed]"
          },
          "metadata": {
            "needs_background": "light"
          }
        }
      ]
    }
  ]
}